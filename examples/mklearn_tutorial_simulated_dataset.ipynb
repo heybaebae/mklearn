{
 "cells": [
  {
   "cell_type": "markdown",
   "metadata": {},
   "source": [
    "# Mklearn Tutorial on Simulated Dataset"
   ]
  },
  {
   "cell_type": "code",
   "execution_count": 4,
   "metadata": {},
   "outputs": [
    {
     "data": {
      "text/plain": [
       "<module 'multiclass' from 'mklearn/multiclass.py'>"
      ]
     },
     "execution_count": 4,
     "metadata": {},
     "output_type": "execute_result"
    }
   ],
   "source": [
    "# import standard packages\n",
    "import sys\n",
    "import numpy as np\n",
    "import pandas as pd\n",
    "import matplotlib.pyplot as plt\n",
    "from matplotlib.colors import ListedColormap\n",
    "%matplotlib inline\n",
    "import importlib\n",
    "import sklearn\n",
    "from sklearn import preprocessing\n",
    "import scipy\n",
    "import sklearn.datasets\n",
    "from sklearn.model_selection import train_test_split\n",
    "from sklearn.preprocessing import StandardScaler\n",
    "\n",
    "# import mklearn and multiclass\n",
    "LIB_PATH = 'mklearn/'\n",
    "sys.path.append(LIB_PATH)\n",
    "import mklearn\n",
    "import multiclass\n",
    "importlib.reload(mklearn)\n",
    "importlib.reload(multiclass)"
   ]
  },
  {
   "cell_type": "code",
   "execution_count": 12,
   "metadata": {},
   "outputs": [
    {
     "name": "stdout",
     "output_type": "stream",
     "text": [
      "X_train shape: (700, 20)\n",
      "y_train shape: (700,)\n",
      "X_test shape: (300, 20)\n",
      "y_test shape: (300,)\n"
     ]
    }
   ],
   "source": [
    "# generate simulated data and split into test and train\n",
    "X, y = sklearn.datasets.make_classification(n_samples=1000, n_features=20, \n",
    "                                            n_informative=5, n_classes=5)\n",
    "X_train, X_test, y_train, y_test = train_test_split(X, y, test_size=0.30, random_state=0)\n",
    "print('X_train shape:', X_train.shape)\n",
    "print('y_train shape:', y_train.shape)\n",
    "print('X_test shape:', X_test.shape)\n",
    "print('y_test shape:', y_test.shape)"
   ]
  },
  {
   "cell_type": "markdown",
   "metadata": {},
   "source": [
    "We have 1000 observatins with 20 features, 5 of which are relevant. There are aldo 5 classes in the simulated dataset, and is split 70/30 for train and test.\n",
    "\n",
    "We first train on portion of the dataset using binary classification."
   ]
  },
  {
   "cell_type": "code",
   "execution_count": 26,
   "metadata": {},
   "outputs": [],
   "source": [
    "# get subset of simulated data \n",
    "def get_data(X, y, classes):\n",
    "    # get indicies\n",
    "    c1, c2 = classes[0], classes[1]\n",
    "    c1_ind, c2_ind = np.where(y == c1)[0], np.where(y == c2)[0]\n",
    "    # get data subsets\n",
    "    X_sub = np.concatenate([X[c1_ind,:], X[c2_ind,:]])\n",
    "    y_sub = np.concatenate([y[c1_ind], y[c2_ind]])\n",
    "    # relabel y\n",
    "    y_sub[y_sub == c2] = -1.0\n",
    "    y_sub[y_sub == c1] = 1.0\n",
    "    # standardize X\n",
    "    Xscaler = preprocessing.StandardScaler().fit(X_sub)\n",
    "    X_sub = Xscaler.transform(X_sub)\n",
    "    return X_sub, y_sub\n",
    "\n",
    "X_sub, y_sub = get_data(X_train, y_train, (0, 1))\n",
    "X_sub_test, y_sub_test = get_data(X_test, y_test, (0, 1))"
   ]
  },
  {
   "cell_type": "code",
   "execution_count": 28,
   "metadata": {},
   "outputs": [
    {
     "name": "stdout",
     "output_type": "stream",
     "text": [
      "final objective: 0.94195\n",
      "final train error: 0.3069\n",
      "Iteration Num: 1\r",
      "Iteration Num: 2\r",
      "Iteration Num: 3\r",
      "Iteration Num: 4\r",
      "Iteration Num: 5\r",
      "Iteration Num: 6\r",
      "Iteration Num: 7\r",
      "Iteration Num: 8\r",
      "Iteration Num: 9\r",
      "Iteration Num: 10\r",
      "Iteration Num: 11\r",
      "Iteration Num: 12\r",
      "Iteration Num: 13\r",
      "Iteration Num: 14\r",
      "Iteration Num: 15\r",
      "Iteration Num: 16\r",
      "Iteration Num: 17\r",
      "Iteration Num: 18\r",
      "Iteration Num: 19\r",
      "Iteration Num: 20\r",
      "Iteration Num: 21\r",
      "Iteration Num: 22\r",
      "Iteration Num: 23\r",
      "Iteration Num: 24\r",
      "final validation error: 0.30973\n"
     ]
    },
    {
     "data": {
      "image/png": "[encoded data removed]",
      "text/plain": [
       "<Figure size 1080x432 with 2 Axes>"
      ]
     },
     "metadata": {},
     "output_type": "display_data"
    }
   ],
   "source": [
    "# train binary classification model using myLinearSVC\n",
    "myLinearSVC_model = mklearn.myLinearSVC(loss='smooth_hinge', tol=1e-6, C=1.0, \n",
    "                                        verbose=False, max_iter=1000)\n",
    "myLinearSVC_model.fit(X_sub, y_sub)\n",
    "myLinearSVC_model.display_results(X_sub_test, y_sub_test)"
   ]
  },
  {
   "cell_type": "markdown",
   "metadata": {},
   "source": [
    "Now we train a linear SVM model using mklearn. mklearn does multiclass classification using one-vs-one method. A default regularization penalty value of $1.0$ is used for this demo."
   ]
  },
  {
   "cell_type": "code",
   "execution_count": 31,
   "metadata": {
    "scrolled": false
   },
   "outputs": [
    {
     "name": "stdout",
     "output_type": "stream",
     "text": [
      "ovo multiclass using 1-folds cross-validation\n",
      "Fitting ovo model for pair (0, 1)\n",
      "k = 1, no cross-validation case...\n",
      "fitting with optimal penalty 1.0\n",
      "Model fit complete. Final objective cost: 1.0\n",
      "Final training error: 1.0\n",
      "\n",
      "Fitting ovo model for pair (0, 2)\n",
      "k = 1, no cross-validation case...\n",
      "fitting with optimal penalty 1.0\n",
      "Model fit complete. Final objective cost: 0.8364674089003914\n",
      "Final training error: 0.19014084507042253\n",
      "\n",
      "Fitting ovo model for pair (0, 3)\n",
      "k = 1, no cross-validation case...\n",
      "fitting with optimal penalty 1.0\n",
      "Model fit complete. Final objective cost: 0.8449997645225106\n",
      "Final training error: 0.2229965156794425\n",
      "\n",
      "Fitting ovo model for pair (0, 4)\n",
      "k = 1, no cross-validation case...\n",
      "fitting with optimal penalty 1.0\n",
      "Model fit complete. Final objective cost: 0.8813162709320728\n",
      "Final training error: 0.2636986301369863\n",
      "\n",
      "Fitting ovo model for pair (1, 2)\n",
      "k = 1, no cross-validation case...\n",
      "fitting with optimal penalty 1.0\n",
      "Model fit complete. Final objective cost: 0.8702493487376408\n",
      "Final training error: 0.22058823529411764\n",
      "\n",
      "Fitting ovo model for pair (1, 3)\n",
      "k = 1, no cross-validation case...\n",
      "fitting with optimal penalty 1.0\n",
      "Model fit complete. Final objective cost: 0.9225509214643962\n",
      "Final training error: 0.3090909090909091\n",
      "\n",
      "Fitting ovo model for pair (1, 4)\n",
      "k = 1, no cross-validation case...\n",
      "fitting with optimal penalty 1.0\n",
      "Model fit complete. Final objective cost: 0.8871033376277218\n",
      "Final training error: 0.225\n",
      "\n",
      "Fitting ovo model for pair (2, 3)\n",
      "k = 1, no cross-validation case...\n",
      "fitting with optimal penalty 1.0\n",
      "Model fit complete. Final objective cost: 0.8963535003707849\n",
      "Final training error: 0.2788104089219331\n",
      "\n",
      "Fitting ovo model for pair (2, 4)\n",
      "k = 1, no cross-validation case...\n",
      "fitting with optimal penalty 1.0\n",
      "Model fit complete. Final objective cost: 0.8847698046784986\n",
      "Final training error: 0.21897810218978103\n",
      "\n",
      "Fitting ovo model for pair (3, 4)\n",
      "k = 1, no cross-validation case...\n",
      "fitting with optimal penalty 1.0\n",
      "Model fit complete. Final objective cost: 0.8445262817235826\n",
      "Final training error: 0.16606498194945848\n",
      "\n",
      "\n",
      "Total elapsed time: 0s\n"
     ]
    }
   ],
   "source": [
    "# input parameters\n",
    "classes = np.arange(5)\n",
    "penalty = 1.0\n",
    "max_iter = 1000\n",
    "n_threads = 10\n",
    "verbose = False\n",
    "tol = 1e-6\n",
    "multi_class = 'ovo'\n",
    "# fit model\n",
    "myLinearSVC_model = mklearn.myLinearSVC(loss='smooth_hinge', tol=tol, C=penalty)\n",
    "myLinearSVC_ovo = multiclass.Multiclass(myLinearSVC_model, classes, multiclass=multi_class,\n",
    "                                       n_threads=n_threads, Cs=None, k=1) \n",
    "myLinearSVC_ovo.fit(X_train, y_train)"
   ]
  },
  {
   "cell_type": "code",
   "execution_count": 32,
   "metadata": {},
   "outputs": [
    {
     "name": "stdout",
     "output_type": "stream",
     "text": [
      "Performing multiclass prediction using 10 threads...\n",
      "Multiclass prediction complete. Elapsed time: 0.109s\n",
      "Performing multiclass prediction using 10 threads...\n",
      "Multiclass prediction complete. Elapsed time: 0.106s\n",
      "OVO training error: 0.544, OVO test error: 0.563\n"
     ]
    }
   ],
   "source": [
    "# predict and check accuracy\n",
    "y_train_pred = multiclass.predict_multiclass(X_train, myLinearSVC_ovo.scalers, \n",
    "                                             myLinearSVC_ovo.fitted_betas, classes, \n",
    "                                             n_threads, 'ovo', multiclass.predict_binary_class)\n",
    "y_test_pred = multiclass.predict_multiclass(X_test, myLinearSVC_ovo.scalers, \n",
    "                                            myLinearSVC_ovo.fitted_betas, classes, \n",
    "                                            n_threads, 'ovo', multiclass.predict_binary_class)\n",
    "ovo_error_train = multiclass.compute_multi_classification_error(y_train, y_train_pred)\n",
    "ovo_error_test = multiclass.compute_multi_classification_error(y_test, y_test_pred)\n",
    "print('OVO training error: {}, OVO test error: {}'.format(round(ovo_error_train, 3), \n",
    "                                                          round(ovo_error_test, 3)))"
   ]
  },
  {
   "cell_type": "markdown",
   "metadata": {},
   "source": [
    "We see error of $54.4\\%$ for training set and $56.3\\%$ for the test set. \n",
    "\n",
    "For the simulated dataset, let's perform 5-fold cross-validation for the regularization penalty value. "
   ]
  },
  {
   "cell_type": "code",
   "execution_count": 34,
   "metadata": {
    "scrolled": false
   },
   "outputs": [
    {
     "name": "stdout",
     "output_type": "stream",
     "text": [
      "ovo multiclass using 5-folds cross-validation\n",
      "Fitting ovo model for pair (0, 1)\n",
      "Performing 5-fold cross-validation...\n",
      "Performing cross-validation...\n",
      "\n",
      "Regularization penalty value: 0.01\n",
      "CV Error: 0.683\n",
      "Regularization penalty value: 0.1\n",
      "CV Error: 0.686\n",
      "Regularization penalty value: 1.0\n",
      "CV Error: 0.676\n",
      "Regularization penalty value: 10.0\n",
      "CV Error: 0.676\n",
      "Regularization penalty value: 100.0\n",
      "CV Error: 0.676\n",
      "Best lambda: 1.0\n",
      "fitting with optimal penalty 1.0\n",
      "Model fit complete. Final objective cost: 1.0\n",
      "Final training error: 0.6758620689655173\n",
      "\n",
      "Fitting ovo model for pair (0, 2)\n",
      "Performing 5-fold cross-validation...\n",
      "Performing cross-validation...\n",
      "\n",
      "Regularization penalty value: 0.01\n",
      "CV Error: 0.189\n",
      "Regularization penalty value: 0.1\n",
      "CV Error: 0.196\n",
      "Regularization penalty value: 1.0\n",
      "CV Error: 0.246\n",
      "Regularization penalty value: 10.0\n",
      "CV Error: 0.25\n",
      "Regularization penalty value: 100.0\n",
      "CV Error: 0.25\n",
      "Best lambda: 0.01\n",
      "fitting with optimal penalty 0.01\n",
      "Model fit complete. Final objective cost: 0.4591395135680008\n",
      "Final training error: 0.18928571428571428\n",
      "\n",
      "Fitting ovo model for pair (0, 3)\n",
      "Performing 5-fold cross-validation...\n",
      "Performing cross-validation...\n",
      "\n",
      "Regularization penalty value: 0.01\n",
      "CV Error: 0.196\n",
      "Regularization penalty value: 0.1\n",
      "CV Error: 0.204\n",
      "Regularization penalty value: 1.0\n",
      "CV Error: 0.242\n",
      "Regularization penalty value: 10.0\n",
      "CV Error: 0.242\n",
      "Regularization penalty value: 100.0\n",
      "CV Error: 0.242\n",
      "Best lambda: 0.01\n",
      "fitting with optimal penalty 0.01\n",
      "Model fit complete. Final objective cost: 0.4576268792470233\n",
      "Final training error: 0.19649122807017544\n",
      "\n",
      "Fitting ovo model for pair (0, 4)\n",
      "Performing 5-fold cross-validation...\n",
      "Performing cross-validation...\n",
      "\n",
      "Regularization penalty value: 0.01\n",
      "CV Error: 0.314\n",
      "Regularization penalty value: 0.1\n",
      "CV Error: 0.303\n",
      "Regularization penalty value: 1.0\n",
      "CV Error: 0.297\n",
      "Regularization penalty value: 10.0\n",
      "CV Error: 0.297\n",
      "Regularization penalty value: 100.0\n",
      "CV Error: 0.297\n",
      "Best lambda: 1.0\n",
      "fitting with optimal penalty 1.0\n",
      "Model fit complete. Final objective cost: 0.8813162709320728\n",
      "Final training error: 0.296551724137931\n",
      "\n",
      "Fitting ovo model for pair (1, 2)\n",
      "Performing 5-fold cross-validation...\n",
      "Performing cross-validation...\n",
      "\n",
      "Regularization penalty value: 0.01\n",
      "CV Error: 0.289\n",
      "Regularization penalty value: 0.1\n",
      "CV Error: 0.248\n",
      "Regularization penalty value: 1.0\n",
      "CV Error: 0.244\n",
      "Regularization penalty value: 10.0\n",
      "CV Error: 0.256\n",
      "Regularization penalty value: 100.0\n",
      "CV Error: 0.256\n",
      "Best lambda: 1.0\n",
      "fitting with optimal penalty 1.0\n",
      "Model fit complete. Final objective cost: 0.8702493487376408\n",
      "Final training error: 0.2444444444444444\n",
      "\n",
      "Fitting ovo model for pair (1, 3)\n",
      "Performing 5-fold cross-validation...\n",
      "Performing cross-validation...\n",
      "\n",
      "Regularization penalty value: 0.01\n",
      "CV Error: 0.345\n",
      "Regularization penalty value: 0.1\n",
      "CV Error: 0.36\n",
      "Regularization penalty value: 1.0\n",
      "CV Error: 0.382\n",
      "Regularization penalty value: 10.0\n",
      "CV Error: 0.393\n",
      "Regularization penalty value: 100.0\n",
      "CV Error: 0.393\n",
      "Best lambda: 0.01\n",
      "fitting with optimal penalty 0.01\n",
      "Model fit complete. Final objective cost: 0.643094758377651\n",
      "Final training error: 0.3454545454545454\n",
      "\n",
      "Fitting ovo model for pair (1, 4)\n",
      "Performing 5-fold cross-validation...\n",
      "Performing cross-validation...\n",
      "\n",
      "Regularization penalty value: 0.01\n",
      "CV Error: 0.2\n",
      "Regularization penalty value: 0.1\n",
      "CV Error: 0.214\n",
      "Regularization penalty value: 1.0\n",
      "CV Error: 0.225\n",
      "Regularization penalty value: 10.0\n",
      "CV Error: 0.246\n",
      "Regularization penalty value: 100.0\n",
      "CV Error: 0.246\n",
      "Best lambda: 0.01\n",
      "fitting with optimal penalty 0.01\n",
      "Model fit complete. Final objective cost: 0.5089705624872598\n",
      "Final training error: 0.2\n",
      "\n",
      "Fitting ovo model for pair (2, 3)\n",
      "Performing 5-fold cross-validation...\n",
      "Performing cross-validation...\n",
      "\n",
      "Regularization penalty value: 0.01\n",
      "CV Error: 0.325\n",
      "Regularization penalty value: 0.1\n",
      "CV Error: 0.294\n",
      "Regularization penalty value: 1.0\n",
      "CV Error: 0.298\n",
      "Regularization penalty value: 10.0\n",
      "CV Error: 0.306\n",
      "Regularization penalty value: 100.0\n",
      "CV Error: 0.306\n",
      "Best lambda: 0.1\n",
      "fitting with optimal penalty 0.1\n",
      "Model fit complete. Final objective cost: 0.6990410654256902\n",
      "Final training error: 0.2943396226415094\n",
      "\n",
      "Fitting ovo model for pair (2, 4)\n",
      "Performing 5-fold cross-validation...\n",
      "Performing cross-validation...\n",
      "\n",
      "Regularization penalty value: 0.01\n",
      "CV Error: 0.23\n",
      "Regularization penalty value: 0.1\n",
      "CV Error: 0.219\n",
      "Regularization penalty value: 1.0\n",
      "CV Error: 0.237\n",
      "Regularization penalty value: 10.0\n",
      "CV Error: 0.263\n",
      "Regularization penalty value: 100.0\n",
      "CV Error: 0.263\n",
      "Best lambda: 0.1\n",
      "fitting with optimal penalty 0.1\n",
      "Model fit complete. Final objective cost: 0.6385820220639719\n",
      "Final training error: 0.2185185185185185\n",
      "\n",
      "Fitting ovo model for pair (3, 4)\n",
      "Performing 5-fold cross-validation...\n",
      "Performing cross-validation...\n",
      "\n",
      "Regularization penalty value: 0.01\n",
      "CV Error: 0.222\n",
      "Regularization penalty value: 0.1\n",
      "CV Error: 0.229\n",
      "Regularization penalty value: 1.0\n",
      "CV Error: 0.2\n",
      "Regularization penalty value: 10.0\n",
      "CV Error: 0.211\n",
      "Regularization penalty value: 100.0\n",
      "CV Error: 0.211\n",
      "Best lambda: 1.0\n",
      "fitting with optimal penalty 1.0\n",
      "Model fit complete. Final objective cost: 0.8445262817235826\n",
      "Final training error: 0.2\n",
      "\n",
      "\n",
      "Total elapsed time: 5s\n"
     ]
    }
   ],
   "source": [
    "# input parameters\n",
    "classes = np.arange(5)\n",
    "Cs = [0.01, 0.1, 1.0, 10.0, 100.0]\n",
    "max_iter = 1000\n",
    "n_threads = 10\n",
    "verbose = False\n",
    "tol = 1e-6\n",
    "multi_class = 'ovo'\n",
    "# fit model\n",
    "myLinearSVC_model = mklearn.myLinearSVC(loss='smooth_hinge', tol=tol, C=penalty)\n",
    "myLinearSVC_ovo = multiclass.Multiclass(myLinearSVC_model, classes, multiclass=multi_class,\n",
    "                                       n_threads=n_threads, Cs=Cs, k=5) \n",
    "myLinearSVC_ovo.fit(X_train, y_train)"
   ]
  },
  {
   "cell_type": "code",
   "execution_count": 35,
   "metadata": {},
   "outputs": [
    {
     "name": "stdout",
     "output_type": "stream",
     "text": [
      "Performing multiclass prediction using 10 threads...\n",
      "Multiclass prediction complete. Elapsed time: 0.188s\n",
      "Performing multiclass prediction using 10 threads...\n",
      "Multiclass prediction complete. Elapsed time: 0.105s\n",
      "OVO training error: 0.493, OVO test error: 0.547\n"
     ]
    }
   ],
   "source": [
    "# predict and check accuracy\n",
    "y_train_pred = multiclass.predict_multiclass(X_train, myLinearSVC_ovo.scalers, \n",
    "                                             myLinearSVC_ovo.fitted_betas, classes, \n",
    "                                             n_threads, 'ovo', multiclass.predict_binary_class)\n",
    "y_test_pred = multiclass.predict_multiclass(X_test, myLinearSVC_ovo.scalers, \n",
    "                                            myLinearSVC_ovo.fitted_betas, classes, \n",
    "                                            n_threads, 'ovo', multiclass.predict_binary_class)\n",
    "ovo_error_train = multiclass.compute_multi_classification_error(y_train, y_train_pred)\n",
    "ovo_error_test = multiclass.compute_multi_classification_error(y_test, y_test_pred)\n",
    "print('OVO training error: {}, OVO test error: {}'.format(round(ovo_error_train, 3), \n",
    "                                                          round(ovo_error_test, 3)))"
   ]
  },
  {
   "cell_type": "markdown",
   "metadata": {},
   "source": [
    "And we see errors of $49.3\\%$ for training set and $54.7\\%$ for the test set, improvements over the default penalty of $1.0$."
   ]
  },
  {
   "cell_type": "code",
   "execution_count": null,
   "metadata": {
    "collapsed": true
   },
   "outputs": [],
   "source": []
  }
 ],
 "metadata": {
  "kernelspec": {
   "display_name": "Python3 tensorflow",
   "language": "python",
   "name": "tensorflow3"
  },
  "language_info": {
   "codemirror_mode": {
    "name": "ipython",
    "version": 3
   },
   "file_extension": ".py",
   "mimetype": "text/x-python",
   "name": "python",
   "nbconvert_exporter": "python",
   "pygments_lexer": "ipython3",
   "version": "3.6.4"
  }
 },
 "nbformat": 4,
 "nbformat_minor": 2
}
